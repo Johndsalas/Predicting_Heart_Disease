{
 "cells": [
  {
   "cell_type": "code",
   "execution_count": 20,
   "id": "vital-expert",
   "metadata": {},
   "outputs": [],
   "source": [
    "# imports\n",
    "import pandas as pd\n",
    "import numpy as np\n",
    "from sklearn.model_selection import train_test_split\n",
    "from sklearn.preprocessing import RobustScaler\n",
    "import matplotlib.pyplot as plt\n",
    "import seaborn as sns\n",
    "import wrangle as w"
   ]
  },
  {
   "cell_type": "markdown",
   "id": "attended-cutting",
   "metadata": {},
   "source": [
    "# Acquire\n",
    "\n",
    "* Data has been acquired from Kaggle at https://www.kaggle.com/datasets/kamilpytlak/personal-key-indicators-of-heart-disease\n",
    "* The data set contained 319,795 observations and 18 features before cleaning\n",
    "* Each observation represents one person in the study\n",
    "* Each feature represents an aspect of each person's health\n",
    "* Data set is imbalanced under 9% of respondants report  having had coronary heart disease or myocardial infarction"
   ]
  },
  {
   "cell_type": "code",
   "execution_count": 2,
   "id": "psychological-scholar",
   "metadata": {},
   "outputs": [],
   "source": [
    "train, validate, test = w.get_my_data()"
   ]
  },
  {
   "cell_type": "markdown",
   "id": "expanded-export",
   "metadata": {},
   "source": [
    "# Prepare\n",
    "\n",
    "* There were no null values in this data set\n",
    "* Features were renamed for convention and readability\n",
    "* Dummy variables were created for catagorical features for use in modeling\n",
    "* Data was split into train, validate, and test dataframes stratifying on heart disease ~(64/16/20)\n",
    "* Scaled versions of numeric variables were added to the dataframe for use in modeling"
   ]
  },
  {
   "cell_type": "code",
   "execution_count": 6,
   "id": "accepted-major",
   "metadata": {},
   "outputs": [],
   "source": [
    "num_cols = ['bmi',\n",
    "            'poor_physical_health_days',\n",
    "            'poor_mental_health_days',\n",
    "            'sleep_hours']\n",
    "\n",
    "\n",
    "cat_cols = ['heart_disease',\n",
    "            'smoker',\n",
    "            'heavy_drinker',\n",
    "            'difficulty_walking',\n",
    "            'diabetic',\n",
    "            'physical_activity',\n",
    "            'kidney_disease',\n",
    "            'skin_cancer',\n",
    "            'age_category',\n",
    "            'general_health',\n",
    "            'stroke',\n",
    "            'sex',\n",
    "            'race',\n",
    "            'asthma']"
   ]
  },
  {
   "cell_type": "code",
   "execution_count": 18,
   "id": "regional-carol",
   "metadata": {
    "scrolled": true
   },
   "outputs": [
    {
     "data": {
      "image/png": "[encoded data removed]",
      "text/plain": [
       "<Figure size 432x288 with 1 Axes>"
      ]
     },
     "metadata": {
      "needs_background": "light"
     },
     "output_type": "display_data"
    },
    {
     "data": {
      "image/png": "[encoded data removed]",
      "text/plain": [
       "<Figure size 432x288 with 1 Axes>"
      ]
     },
     "metadata": {
      "needs_background": "light"
     },
     "output_type": "display_data"
    },
    {
     "data": {
      "image/png": "[encoded data removed]",
      "text/plain": [
       "<Figure size 432x288 with 1 Axes>"
      ]
     },
     "metadata": {
      "needs_background": "light"
     },
     "output_type": "display_data"
    },
    {
     "data": {
      "image/png": "[encoded data removed]",
      "text/plain": [
       "<Figure size 432x288 with 1 Axes>"
      ]
     },
     "metadata": {
      "needs_background": "light"
     },
     "output_type": "display_data"
    }
   ],
   "source": [
    "for col in num_cols:\n",
    "    \n",
    "    over = train[col].mean()\n",
    "    heart = train[col][train.heart_disease == 'Yes'].mean()\n",
    "    health = train[col][train.heart_disease == 'No'].mean()\n",
    "    \n",
    "    x = ['Overall', 'Heart-attack', 'Non-heart-attack']\n",
    "    hight = [over, heart, health]\n",
    "    \n",
    "    plt.bar(x, hight)\n",
    "    plt.title(f'avg {col}')\n",
    "    plt.show()"
   ]
  },
  {
   "cell_type": "code",
   "execution_count": 25,
   "id": "indonesian-brunswick",
   "metadata": {},
   "outputs": [
    {
     "name": "stdout",
     "output_type": "stream",
     "text": [
      "['Yes', 'No']\n",
      "['Yes', 'No']\n",
      "['Yes', 'No']\n",
      "['Yes', 'No']\n",
      "['Yes (during pregnancy)', 'Yes', 'No', 'No, borderline diabetes']\n",
      "['Yes', 'No']\n",
      "['Yes', 'No']\n",
      "['Yes', 'No']\n",
      "['18-24', '70-74', '30-34', '50-54', '55-59', '80 or older', '40-44', '35-39', '25-29', '65-69', '45-49', '60-64', '75-79']\n",
      "['Very good', 'Good', 'Fair', 'Poor', 'Excellent']\n",
      "['Yes', 'No']\n",
      "['Female', 'Male']\n",
      "['Asian', 'White', 'American Indian/Alaskan Native', 'Hispanic', 'Black', 'Other']\n",
      "['Yes', 'No']\n"
     ]
    }
   ],
   "source": [
    "for col in cat_cols:\n",
    "    \n",
    "     cats = list(set(train[col].to_list()))\n",
    "    \n",
    "    \n",
    "    for val in vals\n",
    "    \n",
    "        num = len(train[train[col] = val])\n",
    "        \n",
    "        v\n",
    "        \n",
    "    \n",
    "    print(vals)"
   ]
  },
  {
   "cell_type": "code",
   "execution_count": null,
   "id": "still-bacteria",
   "metadata": {},
   "outputs": [],
   "source": [
    "for col in cat_cols:\n",
    "    \n",
    "    sns.barplot(x=, y='values', data=train)\n",
    "\n",
    "    plt.title(f'Title about {col}')\n",
    "    plt.show()"
   ]
  },
  {
   "cell_type": "code",
   "execution_count": 21,
   "id": "younger-palmer",
   "metadata": {},
   "outputs": [
    {
     "data": {
      "image/png": "[encoded data removed]",
      "text/plain": [
       "<Figure size 432x288 with 1 Axes>"
      ]
     },
     "metadata": {
      "needs_background": "light"
     },
     "output_type": "display_data"
    }
   ],
   "source": [
    "# Sample DataFrame\n",
    "data = {'category': ['A', 'B', 'C'], 'value': [10, 15, 20]}\n",
    "df = pd.DataFrame(data)\n",
    "\n",
    "# Create the barplot\n",
    "sns.barplot(x='category', y='value', data=df)\n",
    "plt.show()"
   ]
  },
  {
   "cell_type": "code",
   "execution_count": 22,
   "id": "right-latino",
   "metadata": {},
   "outputs": [
    {
     "data": {
      "text/html": [
       "<div>\n",
       "<style scoped>\n",
       "    .dataframe tbody tr th:only-of-type {\n",
       "        vertical-align: middle;\n",
       "    }\n",
       "\n",
       "    .dataframe tbody tr th {\n",
       "        vertical-align: top;\n",
       "    }\n",
       "\n",
       "    .dataframe thead th {\n",
       "        text-align: right;\n",
       "    }\n",
       "</style>\n",
       "<table border=\"1\" class=\"dataframe\">\n",
       "  <thead>\n",
       "    <tr style=\"text-align: right;\">\n",
       "      <th></th>\n",
       "      <th>category</th>\n",
       "      <th>value</th>\n",
       "    </tr>\n",
       "  </thead>\n",
       "  <tbody>\n",
       "    <tr>\n",
       "      <th>0</th>\n",
       "      <td>A</td>\n",
       "      <td>10</td>\n",
       "    </tr>\n",
       "    <tr>\n",
       "      <th>1</th>\n",
       "      <td>B</td>\n",
       "      <td>15</td>\n",
       "    </tr>\n",
       "    <tr>\n",
       "      <th>2</th>\n",
       "      <td>C</td>\n",
       "      <td>20</td>\n",
       "    </tr>\n",
       "  </tbody>\n",
       "</table>\n",
       "</div>"
      ],
      "text/plain": [
       "  category  value\n",
       "0        A     10\n",
       "1        B     15\n",
       "2        C     20"
      ]
     },
     "execution_count": 22,
     "metadata": {},
     "output_type": "execute_result"
    }
   ],
   "source": [
    "df"
   ]
  },
  {
   "cell_type": "code",
   "execution_count": null,
   "id": "sorted-nelson",
   "metadata": {},
   "outputs": [],
   "source": []
  },
  {
   "cell_type": "code",
   "execution_count": null,
   "id": "secondary-subcommittee",
   "metadata": {},
   "outputs": [],
   "source": []
  },
  {
   "cell_type": "code",
   "execution_count": null,
   "id": "cubic-ethics",
   "metadata": {},
   "outputs": [],
   "source": []
  },
  {
   "cell_type": "code",
   "execution_count": null,
   "id": "freelance-nightlife",
   "metadata": {},
   "outputs": [],
   "source": []
  },
  {
   "cell_type": "code",
   "execution_count": null,
   "id": "connected-think",
   "metadata": {},
   "outputs": [],
   "source": []
  },
  {
   "cell_type": "code",
   "execution_count": 4,
   "id": "assigned-vault",
   "metadata": {},
   "outputs": [
    {
     "ename": "NameError",
     "evalue": "name 'df' is not defined",
     "output_type": "error",
     "traceback": [
      "\u001b[0;31m---------------------------------------------------------------------------\u001b[0m",
      "\u001b[0;31mNameError\u001b[0m                                 Traceback (most recent call last)",
      "\u001b[0;32m<ipython-input-4-2ee15ef0a489>\u001b[0m in \u001b[0;36m<module>\u001b[0;34m\u001b[0m\n\u001b[0;32m----> 1\u001b[0;31m df = df.rename(columns={'HeartDisease':'heart_disease', \n\u001b[0m\u001b[1;32m      2\u001b[0m                         \u001b[0;34m'BMI'\u001b[0m\u001b[0;34m:\u001b[0m\u001b[0;34m'bmi'\u001b[0m\u001b[0;34m,\u001b[0m\u001b[0;34m\u001b[0m\u001b[0;34m\u001b[0m\u001b[0m\n\u001b[1;32m      3\u001b[0m                         \u001b[0;34m'Smoking'\u001b[0m\u001b[0;34m:\u001b[0m\u001b[0;34m'smoker'\u001b[0m\u001b[0;34m,\u001b[0m\u001b[0;34m\u001b[0m\u001b[0;34m\u001b[0m\u001b[0m\n\u001b[1;32m      4\u001b[0m                         \u001b[0;34m'AlcoholDrinking'\u001b[0m\u001b[0;34m:\u001b[0m\u001b[0;34m'heavy_drinker'\u001b[0m\u001b[0;34m,\u001b[0m\u001b[0;34m\u001b[0m\u001b[0;34m\u001b[0m\u001b[0m\n\u001b[1;32m      5\u001b[0m                         \u001b[0;34m'Stroke'\u001b[0m\u001b[0;34m:\u001b[0m\u001b[0;34m'stroke'\u001b[0m\u001b[0;34m,\u001b[0m\u001b[0;34m\u001b[0m\u001b[0;34m\u001b[0m\u001b[0m\n",
      "\u001b[0;31mNameError\u001b[0m: name 'df' is not defined"
     ]
    }
   ],
   "source": [
    "df = df.rename(columns={'HeartDisease':'heart_disease', \n",
    "                        'BMI':'bmi', \n",
    "                        'Smoking':'smoker', \n",
    "                        'AlcoholDrinking':'heavy_drinker',\n",
    "                        'Stroke':'stroke',\n",
    "                        'PhysicalHealth':'poor_physical_health_days', \n",
    "                        'MentalHealth':'poor_mental_health_days', \n",
    "                        'DiffWalking': 'difficulty_walking', \n",
    "                        'Sex':'sex', \n",
    "                        'AgeCategory':'age_category',\n",
    "                        'Race':'race', \n",
    "                        'Diabetic':'diabetic', \n",
    "                        'PhysicalActivity':'physical_activity', \n",
    "                        'GenHealth':'general_health', \n",
    "                        'SleepTime':'sleep_hours',\n",
    "                        'Asthma':'asthma', \n",
    "                        'KidneyDisease':'kidney_disease', \n",
    "                        'SkinCancer':'skin_cancer'})"
   ]
  },
  {
   "cell_type": "code",
   "execution_count": null,
   "id": "quick-tokyo",
   "metadata": {},
   "outputs": [],
   "source": [
    "\n",
    "\n",
    "dummies = pd.get_dummies(df[cat_cols])\n",
    "\n",
    "df = df.join(dummies)"
   ]
  },
  {
   "cell_type": "code",
   "execution_count": null,
   "id": "eight-parts",
   "metadata": {},
   "outputs": [],
   "source": [
    "def split_my_data(df):\n",
    "    '''Splits data and returns a train, validate, and test dataframe'''\n",
    "\n",
    "    # split df into train_validate and test\n",
    "    train_validate, test = train_test_split(df, \n",
    "                                            test_size=.2, \n",
    "                                            random_state=123, \n",
    "                                            stratify=df.heart_disease)\n",
    "\n",
    "    # split train_validate into train and validate\n",
    "    train, validate =  train_test_split(train_validate, \n",
    "                                        test_size=.2, \n",
    "                                        random_state=123, \n",
    "                                        stratify=train_validate.heart_disease)\n",
    "\n",
    "    # reset index for train validate and test\n",
    "    train.reset_index(drop=True, inplace=True)\n",
    "    validate.reset_index(drop=True, inplace=True)\n",
    "    test.reset_index(drop=True, inplace=True)\n",
    "\n",
    "    return train, validate, test"
   ]
  },
  {
   "cell_type": "code",
   "execution_count": null,
   "id": "infinite-bumper",
   "metadata": {},
   "outputs": [],
   "source": [
    "train, validate, test = split_my_data(df)"
   ]
  },
  {
   "cell_type": "code",
   "execution_count": null,
   "id": "arranged-yemen",
   "metadata": {},
   "outputs": [],
   "source": [
    "def scale_data(train, validate, test):\n",
    "    \"Adds scaled columns to split data\"\n",
    "\n",
    "    # Scaling continuous variables\n",
    "    cols_to_scale = ['bmi',\n",
    "                     'sleep_hours',\n",
    "                     'poor_physical_health_days',\n",
    "                     'poor_mental_health_days']\n",
    "\n",
    "    # create df's for train validate and test with only columns that need to be scaled\n",
    "    train_to_be_scaled = train[cols_to_scale]\n",
    "    validate_to_be_scaled = validate[cols_to_scale]\n",
    "    test_to_be_scaled = test[cols_to_scale]\n",
    "\n",
    "    # create scaler object and fit that object on the train data\n",
    "    scaler = RobustScaler().fit(train_to_be_scaled)\n",
    "\n",
    "    # transform data into an array using the scaler object \n",
    "    train_scaled = scaler.transform(train_to_be_scaled)\n",
    "    validate_scaled = scaler.transform(validate_to_be_scaled)\n",
    "    test_scaled = scaler.transform(test_to_be_scaled)\n",
    "\n",
    "    # transform data into a dataframe\n",
    "    train_scaled = pd.DataFrame(train_scaled, columns = cols_to_scale)\n",
    "    validate_scaled = pd.DataFrame(validate_scaled, columns = cols_to_scale)\n",
    "    test_scaled = pd.DataFrame(test_scaled, columns = cols_to_scale)\n",
    "\n",
    "    # add _scaled to each column name in the scaled data\n",
    "    for col in cols_to_scale:\n",
    "\n",
    "        train_scaled = train_scaled.rename(columns={col: col + \"_scaled\"})\n",
    "        validate_scaled = validate_scaled.rename(columns={col: col + \"_scaled\"})\n",
    "        test_scaled = test_scaled.rename(columns={col: col + \"_scaled\"})\n",
    "\n",
    "    # add scaled columns to their original dataframes\n",
    "    train = train.join(train_scaled)\n",
    "    validate = validate.join(validate_scaled)\n",
    "    test = test.join(test_scaled)\n",
    "\n",
    "    return train, validate, test"
   ]
  },
  {
   "cell_type": "code",
   "execution_count": null,
   "id": "expensive-sheep",
   "metadata": {},
   "outputs": [],
   "source": [
    "train, validate, test = scale_data(train, validate, test)"
   ]
  },
  {
   "cell_type": "code",
   "execution_count": null,
   "id": "fallen-priority",
   "metadata": {
    "scrolled": true
   },
   "outputs": [],
   "source": [
    "train"
   ]
  },
  {
   "cell_type": "code",
   "execution_count": null,
   "id": "loved-journalism",
   "metadata": {},
   "outputs": [],
   "source": [
    "validate"
   ]
  },
  {
   "cell_type": "code",
   "execution_count": null,
   "id": "serial-collar",
   "metadata": {},
   "outputs": [],
   "source": [
    "test"
   ]
  },
  {
   "cell_type": "code",
   "execution_count": null,
   "id": "seasonal-disabled",
   "metadata": {},
   "outputs": [],
   "source": [
    "len(train)/len(df)"
   ]
  },
  {
   "cell_type": "code",
   "execution_count": null,
   "id": "promising-triple",
   "metadata": {},
   "outputs": [],
   "source": [
    "len(validate)/len(df)"
   ]
  },
  {
   "cell_type": "code",
   "execution_count": null,
   "id": "protective-holder",
   "metadata": {},
   "outputs": [],
   "source": [
    "len(test)/len(df)"
   ]
  },
  {
   "cell_type": "code",
   "execution_count": null,
   "id": "comfortable-breach",
   "metadata": {},
   "outputs": [],
   "source": []
  }
 ],
 "metadata": {
  "kernelspec": {
   "display_name": "Python 3",
   "language": "python",
   "name": "python3"
  },
  "language_info": {
   "codemirror_mode": {
    "name": "ipython",
    "version": 3
   },
   "file_extension": ".py",
   "mimetype": "text/x-python",
   "name": "python",
   "nbconvert_exporter": "python",
   "pygments_lexer": "ipython3",
   "version": "3.7.4"
  }
 },
 "nbformat": 4,
 "nbformat_minor": 5
}
